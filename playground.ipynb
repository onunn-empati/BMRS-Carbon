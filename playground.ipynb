{
 "cells": [
  {
   "cell_type": "code",
   "execution_count": 3,
   "metadata": {},
   "outputs": [],
   "source": [
    "import requests\n",
    "import pandas as pd\n",
    "import pydantic\n",
    "import datetime\n",
    "\n",
    "from secret import api_key"
   ]
  },
  {
   "cell_type": "code",
   "execution_count": 14,
   "metadata": {},
   "outputs": [],
   "source": [
    "class ElexonRequest(pydantic.BaseModel):\n",
    "    report: str\n",
    "    date: datetime.date\n",
    "    api_key: pydantic.SecretStr = pydantic.SecretStr(api_key)\n",
    "    service_type: str = 'csv'\n",
    "\n",
    "req = ElexonRequest(report='B1770', date='2020-01-01')\n",
    "url = f\"https://api.bmreports.com/BMRS/{req.report}/v1?APIKey={req.api_key.get_secret_value()}&Period=*&SettlementDate={req.date.isoformat()}&ServiceType={req.service_type}\"\n",
    "res = requests.get(url)\n",
    "assert res.status_code == 200\n",
    "# print(res.text[:512])\n",
    "# print(res.text)"
   ]
  },
  {
   "cell_type": "code",
   "execution_count": 16,
   "metadata": {},
   "outputs": [
    {
     "name": "stdout",
     "output_type": "stream",
     "text": [
      "*\n",
      "*\n",
      "*Imbalance Prices Service For Balancing (B1770) Data\n",
      "*\n",
      "*DocumentID,DocumentRevNum,ActiveFlag,ProcessType,DocumentType,Resolution,CurveType,PriceCategory,ImbalancePriceAmount,SettlementPeriod,SettlementDate,ControlArea,BusinessType,TimeSeriesID,DocumentStatus\n",
      "ELX-EMFIP-IMBP-22437930,1,Y,Realised,Imbalance prices,PT30M,Sequential fixed size block,Insufficient balance,50.9,1,2020-01-01,10YGB----------A,Balance energy deviation,ELX-EMFIP-IMBP-TS-1,Final\n",
      "ELX-EMFIP-IMBP-22437930,1,Y,Realised,Imbalance prices,PT30M,Sequential fixed size block,Excess balance,50.9,1,2020-01-01,10YGB----------A,Balance energy deviation,ELX-EMFIP-IMBP-TS-2,Final\n",
      "<EOF>\n"
     ]
    }
   ],
   "source": [
    "# adding in the period like in the official documentation\n",
    "class ElexonRequest(pydantic.BaseModel):\n",
    "    report: str\n",
    "    date: datetime.date\n",
    "    period: str\n",
    "    api_key: pydantic.SecretStr = pydantic.SecretStr(api_key)\n",
    "    service_type: str = 'csv'\n",
    "\n",
    "req = ElexonRequest(report='B1770', date='2020-01-01', period='1')\n",
    "url = f\"https://api.bmreports.com/BMRS/{req.report}/v1?APIKey={req.api_key.get_secret_value()}&Period={req.period}&SettlementDate={req.date.isoformat()}&ServiceType={req.service_type}\"\n",
    "res = requests.get(url)\n",
    "assert res.status_code == 200\n",
    "print(res.text)\n"
   ]
  },
  {
   "cell_type": "code",
   "execution_count": null,
   "metadata": {},
   "outputs": [],
   "source": []
  }
 ],
 "metadata": {
  "kernelspec": {
   "display_name": ".venv",
   "language": "python",
   "name": "python3"
  },
  "language_info": {
   "codemirror_mode": {
    "name": "ipython",
    "version": 3
   },
   "file_extension": ".py",
   "mimetype": "text/x-python",
   "name": "python",
   "nbconvert_exporter": "python",
   "pygments_lexer": "ipython3",
   "version": "3.11.1"
  }
 },
 "nbformat": 4,
 "nbformat_minor": 2
}
